{
 "cells": [
  {
   "cell_type": "markdown",
   "metadata": {},
   "source": [
    "# DS1000C Rigol Waveform Examples\n",
    "\n",
    "**Scott Prahl**\n",
    "\n",
    "**Mar 2021**\n",
    "\n",
    "> If <a href=\"https://jupyter.org\">Jupyter</a> is not installed on your computer, then this notebook can be run, modified, and saved in the <a href=\"https://colab.research.google.com/notebooks/intro.ipynb\">Google Colaboratory</a> environment.  This free service uses your web browser, requires zero configuration, and runs entirely in the cloud. \n",
    ">\n",
    "> <a href=\"https://colab.research.google.com/github/scottprahl/RigolWFM/blob/master/docs/1-DS1000C-Waveforms.ipynb\">Open in Colab</a>"
   ]
  },
  {
   "cell_type": "code",
   "execution_count": 1,
   "metadata": {
    "scrolled": true
   },
   "outputs": [],
   "source": [
    "import numpy as np\n",
    "import matplotlib.pyplot as plt\n",
    "\n",
    "try:\n",
    "    import RigolWFM.wfm as rigol\n",
    "except ModuleNotFoundError:\n",
    "    print('RigolWFM not installed. To install, uncomment and run the cell below.')\n",
    "    print('Once installation is successful, rerun this cell again.')\n",
    "\n",
    "repo = \"https://github.com/scottprahl/RigolWFM/raw/master/wfm/\""
   ]
  },
  {
   "cell_type": "code",
   "execution_count": null,
   "metadata": {},
   "outputs": [],
   "source": [
    "#!pip install RigolWFM"
   ]
  },
  {
   "cell_type": "markdown",
   "metadata": {},
   "source": [
    "## Introduction\n",
    "\n",
    "This notebook illustrates shows how to extract signals from a `.wfm` file created by a the Rigol DS1202CA scope.  \n",
    "\n",
    "A single `.wfm` files is examined.\n",
    "\n",
    "The list of Rigol scopes that should produce the same file format are:"
   ]
  },
  {
   "cell_type": "code",
   "execution_count": 2,
   "metadata": {},
   "outputs": [
    {
     "name": "stdout",
     "output_type": "stream",
     "text": [
      "['C', '1000C', 'DS1000C', 'DS1000CD', 'DS1000C', 'DS1000MD', 'DS1000M', 'DS1302CA', 'DS1202CA', 'DS1102CA', 'DS1062CA']\n"
     ]
    }
   ],
   "source": [
    "print(rigol.DS1000C_scopes[:])"
   ]
  },
  {
   "cell_type": "markdown",
   "metadata": {},
   "source": [
    "## DS1202CA\n",
    "\n",
    "We will start with a `.wfm` file from a Rigol DS1202CA scope. \n"
   ]
  },
  {
   "cell_type": "markdown",
   "metadata": {},
   "source": [
    "### Now for the `.wfm` data\n",
    "\n",
    "First a textual description."
   ]
  },
  {
   "cell_type": "code",
   "execution_count": 3,
   "metadata": {},
   "outputs": [
    {
     "name": "stdout",
     "output_type": "stream",
     "text": [
      "downloading 'https://github.com/scottprahl/RigolWFM/raw/master/wfm/DS1202CA-A.wfm?raw=true'\n",
      "    General:\n",
      "        File Model   = wfm1000c\n",
      "        User Model   = 1000C\n",
      "        Parser Model = wfm1000c\n",
      "        Firmware     = unknown\n",
      "        Filename     = DS1202CA-A.wfm\n",
      "        Channels     = [1, 2]\n",
      "\n",
      "     Channel 1:\n",
      "         Coupling =  unknown\n",
      "            Scale =   200.00 mV/div\n",
      "           Offset =  -608.00 mV\n",
      "            Probe =       1X\n",
      "         Inverted =    False\n",
      "\n",
      "        Time Base =   10.000 ms/div\n",
      "           Offset =   -1.600 ms\n",
      "            Delta =  100.000 µs/point\n",
      "           Points =     5120\n",
      "\n",
      "         Count    = [        1,        2,        3  ...      5119,     5120]\n",
      "           Raw    = [      198,      198,      198  ...       192,      192]\n",
      "           Times  = [-257.600 ms,-257.500 ms,-257.400 ms  ... 254.300 ms,254.400 ms]\n",
      "           Volts  = [ 40.00 mV, 40.00 mV, 40.00 mV  ...  88.00 mV, 88.00 mV]\n",
      "\n",
      "     Channel 2:\n",
      "         Coupling =  unknown\n",
      "            Scale =   500.00 mV/div\n",
      "           Offset =     0.00  V\n",
      "            Probe =       1X\n",
      "         Inverted =    False\n",
      "\n",
      "        Time Base =   10.000 ms/div\n",
      "           Offset =   -1.600 ms\n",
      "            Delta =  100.000 µs/point\n",
      "           Points =     5120\n",
      "\n",
      "         Count    = [        1,        2,        3  ...      5119,     5120]\n",
      "           Raw    = [       92,       92,       92  ...        77,       77]\n",
      "           Times  = [-257.600 ms,-257.500 ms,-257.400 ms  ... 254.300 ms,254.400 ms]\n",
      "           Volts  = [700.00 mV,700.00 mV,700.00 mV  ...   1.00  V,  1.00  V]\n",
      "\n",
      "\n"
     ]
    }
   ],
   "source": [
    "# raw=true is needed because this is a binary file\n",
    "wfm_url = \"https://github.com/scottprahl/RigolWFM/raw/master/wfm/DS1202CA-A.wfm\" + \"?raw=true\"  \n",
    "w = rigol.Wfm.from_url(wfm_url, '1000C')\n",
    "\n",
    "description = w.describe()\n",
    "print(description)"
   ]
  },
  {
   "cell_type": "code",
   "execution_count": 4,
   "metadata": {},
   "outputs": [
    {
     "data": {
      "image/png": "[encoded data removed]",
      "text/plain": [
       "<Figure size 432x288 with 2 Axes>"
      ]
     },
     "metadata": {
      "needs_background": "light"
     },
     "output_type": "display_data"
    }
   ],
   "source": [
    "ch = w.channels[0]\n",
    "plt.subplot(211)\n",
    "plt.plot(ch.times, ch.volts, color='green')\n",
    "plt.title(\"DS1202CA-A from .wfm file\")\n",
    "plt.ylabel(\"Volts (V)\")\n",
    "#plt.xlim(-0.6,0.6)\n",
    "\n",
    "plt.xticks([])\n",
    "\n",
    "ch = w.channels[1]\n",
    "plt.subplot(212)\n",
    "plt.plot(ch.times, ch.volts, color='red')\n",
    "plt.xlabel(\"Time (s)\")\n",
    "plt.ylabel(\"Volts (V)\")\n",
    "#plt.xlim(-0.6,0.6)\n",
    "\n",
    "plt.show()"
   ]
  }
 ],
 "metadata": {
  "kernel_info": {
   "name": "python3"
  },
  "kernelspec": {
   "display_name": "Python 3",
   "language": "python",
   "name": "python3"
  },
  "language_info": {
   "codemirror_mode": {
    "name": "ipython",
    "version": 3
   },
   "file_extension": ".py",
   "mimetype": "text/x-python",
   "name": "python",
   "nbconvert_exporter": "python",
   "pygments_lexer": "ipython3",
   "version": "3.9.1"
  },
  "nteract": {
   "version": "0.15.0"
  }
 },
 "nbformat": 4,
 "nbformat_minor": 4
}
